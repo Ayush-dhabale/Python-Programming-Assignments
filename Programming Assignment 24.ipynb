{
 "cells": [
  {
   "cell_type": "markdown",
   "id": "f89f2245",
   "metadata": {},
   "source": [
    "Question1\n",
    "Create a function that takes an integer and returns a list from 1 to the given number, \n",
    "\n",
    "where:\n",
    "1.If the number can be divided evenly by 4, amplify it by 10 (i.e. return 10 times the\n",
    "number).\n",
    "\n",
    "2.If the number cannot be divided evenly by 4, simply return the number."
   ]
  },
  {
   "cell_type": "code",
   "execution_count": 1,
   "id": "25881ae6",
   "metadata": {},
   "outputs": [],
   "source": [
    "def amplify(num):\n",
    "    num_list = [i*10 if i % 4 == 0 else i for i in range(1,num+1)]\n",
    "    return num_list"
   ]
  },
  {
   "cell_type": "code",
   "execution_count": 2,
   "id": "bad7a4d7",
   "metadata": {},
   "outputs": [
    {
     "data": {
      "text/plain": [
       "[1, 2, 3, 40, 5, 6, 7, 80]"
      ]
     },
     "execution_count": 2,
     "metadata": {},
     "output_type": "execute_result"
    }
   ],
   "source": [
    "result = amplify(8)\n",
    "result"
   ]
  },
  {
   "cell_type": "markdown",
   "id": "67c5495c",
   "metadata": {},
   "source": [
    "Question2\n",
    "Create a function that takes a list of numbers and return the number that&#39;s unique."
   ]
  },
  {
   "cell_type": "code",
   "execution_count": 3,
   "id": "526db3db",
   "metadata": {},
   "outputs": [],
   "source": [
    "def unique(lst):\n",
    "    count_dict = {}\n",
    "    \n",
    "    for num in lst:\n",
    "        if num in count_dict:\n",
    "            count_dict[num] += 1\n",
    "        else:\n",
    "            count_dict[num] = 1\n",
    "    \n",
    "    for num, count in count_dict.items():\n",
    "        if count == 1:\n",
    "            return num\n"
   ]
  },
  {
   "cell_type": "code",
   "execution_count": 4,
   "id": "f087db48",
   "metadata": {},
   "outputs": [
    {
     "data": {
      "text/plain": [
       "0"
      ]
     },
     "execution_count": 4,
     "metadata": {},
     "output_type": "execute_result"
    }
   ],
   "source": [
    "result = unique([0, 1, 1, 1, 1, 1, 1, 1])\n",
    "result"
   ]
  },
  {
   "cell_type": "markdown",
   "id": "edce79a0",
   "metadata": {},
   "source": [
    "Question3\n",
    "Your task is to create a Circle constructor that creates a circle with a radius provided by an\n",
    "argument. The circles constructed must have two getters getArea() (PIr^2) and\n",
    "getPerimeter() (2PI*r) which give both respective areas and perimeter (circumference)."
   ]
  },
  {
   "cell_type": "code",
   "execution_count": 5,
   "id": "ec43ee6d",
   "metadata": {},
   "outputs": [],
   "source": [
    "import math\n",
    "\n",
    "class Circle:\n",
    "    def __init__(self,radius):\n",
    "        self.radius = radius\n",
    "        \n",
    "    def getArea(self):\n",
    "        return round(math.pi * (self.radius ** 2))\n",
    "    \n",
    "    def getPerimeter(self):\n",
    "        return round(2 * math.pi * self.radius)"
   ]
  },
  {
   "cell_type": "code",
   "execution_count": 6,
   "id": "49a495bb",
   "metadata": {},
   "outputs": [
    {
     "data": {
      "text/plain": [
       "380"
      ]
     },
     "execution_count": 6,
     "metadata": {},
     "output_type": "execute_result"
    }
   ],
   "source": [
    "C = Circle(11)\n",
    "C.getArea()"
   ]
  },
  {
   "cell_type": "code",
   "execution_count": 7,
   "id": "a8091741",
   "metadata": {},
   "outputs": [
    {
     "data": {
      "text/plain": [
       "69"
      ]
     },
     "execution_count": 7,
     "metadata": {},
     "output_type": "execute_result"
    }
   ],
   "source": [
    "C.getPerimeter()"
   ]
  },
  {
   "cell_type": "markdown",
   "id": "220a02c6",
   "metadata": {},
   "source": [
    "Question4\n",
    "Create a function that takes a list of strings and return a list, sorted from shortest to longest."
   ]
  },
  {
   "cell_type": "code",
   "execution_count": 8,
   "id": "81072251",
   "metadata": {},
   "outputs": [],
   "source": [
    "def sort_by_length(strings):\n",
    "    return sorted(strings, key=len)"
   ]
  },
  {
   "cell_type": "code",
   "execution_count": 9,
   "id": "4e01dd3b",
   "metadata": {},
   "outputs": [
    {
     "data": {
      "text/plain": [
       "['Raphael', 'Leonardo', 'Donatello', 'Michelangelo']"
      ]
     },
     "execution_count": 9,
     "metadata": {},
     "output_type": "execute_result"
    }
   ],
   "source": [
    "result = sort_by_length([\"Leonardo\",\"Michelangelo\",\"Raphael\",\"Donatello\"])\n",
    "result"
   ]
  },
  {
   "cell_type": "markdown",
   "id": "93e7a4c6",
   "metadata": {},
   "source": [
    "Question5\n",
    "Create a function that validates whether three given integers form a Pythagorean triplet. The\n",
    "sum of the squares of the two smallest integers must equal the square of the largest number to\n",
    "be validated."
   ]
  },
  {
   "cell_type": "code",
   "execution_count": 10,
   "id": "ddae02b7",
   "metadata": {},
   "outputs": [],
   "source": [
    "def is_triplet(a, b, c):\n",
    "    num = sorted([a, b, c])\n",
    "    return num[0]**2 + num[1]**2 == num[2]**2\n",
    "    "
   ]
  },
  {
   "cell_type": "code",
   "execution_count": 11,
   "id": "f0b1acaf",
   "metadata": {},
   "outputs": [
    {
     "data": {
      "text/plain": [
       "True"
      ]
     },
     "execution_count": 11,
     "metadata": {},
     "output_type": "execute_result"
    }
   ],
   "source": [
    "result = is_triplet(3,4,5)\n",
    "result"
   ]
  }
 ],
 "metadata": {
  "kernelspec": {
   "display_name": "Python 3 (ipykernel)",
   "language": "python",
   "name": "python3"
  },
  "language_info": {
   "codemirror_mode": {
    "name": "ipython",
    "version": 3
   },
   "file_extension": ".py",
   "mimetype": "text/x-python",
   "name": "python",
   "nbconvert_exporter": "python",
   "pygments_lexer": "ipython3",
   "version": "3.10.10"
  }
 },
 "nbformat": 4,
 "nbformat_minor": 5
}
