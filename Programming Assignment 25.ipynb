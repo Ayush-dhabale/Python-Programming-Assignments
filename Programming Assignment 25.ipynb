{
 "cells": [
  {
   "cell_type": "markdown",
   "id": "15355538",
   "metadata": {},
   "source": [
    "Question1\n",
    "Create a function that takes three integer arguments (a, b, c) and returns the amount of\n",
    "integers which are of equal value."
   ]
  },
  {
   "cell_type": "code",
   "execution_count": 1,
   "id": "5f5929b7",
   "metadata": {},
   "outputs": [],
   "source": [
    "def equal(a,b,c):\n",
    "    nums = {a,b,c}\n",
    "    \n",
    "    if len(nums) == 1:\n",
    "        return 3\n",
    "    \n",
    "    elif len(nums) == 2:\n",
    "        return 2\n",
    "    return 0"
   ]
  },
  {
   "cell_type": "code",
   "execution_count": 2,
   "id": "e879951e",
   "metadata": {},
   "outputs": [
    {
     "data": {
      "text/plain": [
       "0"
      ]
     },
     "execution_count": 2,
     "metadata": {},
     "output_type": "execute_result"
    }
   ],
   "source": [
    "result = equal(4,2,1)\n",
    "result"
   ]
  },
  {
   "cell_type": "markdown",
   "id": "27f17ab4",
   "metadata": {},
   "source": [
    "Question2\n",
    "Write a function that converts a dictionary into a list of keys-values tuples."
   ]
  },
  {
   "cell_type": "code",
   "execution_count": 3,
   "id": "c7f52bff",
   "metadata": {},
   "outputs": [],
   "source": [
    "def dict_tuple(Dict):\n",
    "    temp = sorted(Dict.items())\n",
    "    return temp"
   ]
  },
  {
   "cell_type": "code",
   "execution_count": 4,
   "id": "bc68ba2e",
   "metadata": {},
   "outputs": [
    {
     "data": {
      "text/plain": [
       "[('dislikes', 3), ('followers', 10), ('likes', 2)]"
      ]
     },
     "execution_count": 4,
     "metadata": {},
     "output_type": "execute_result"
    }
   ],
   "source": [
    "result = dict_tuple({\"likes\": 2, \"dislikes\": 3, \"followers\": 10})\n",
    "result"
   ]
  },
  {
   "cell_type": "markdown",
   "id": "59fa6e34",
   "metadata": {},
   "source": [
    "Question3\n",
    "Write a function that creates a dictionary with each (key, value) pair being the (lower case,\n",
    "upper case) versions of a letter, respectively."
   ]
  },
  {
   "cell_type": "code",
   "execution_count": 5,
   "id": "02abf0e1",
   "metadata": {},
   "outputs": [],
   "source": [
    "def Dict(l):\n",
    "    temp = {}\n",
    "    for i in l:\n",
    "        temp[i] = i.upper()\n",
    "        \n",
    "    return temp"
   ]
  },
  {
   "cell_type": "code",
   "execution_count": 6,
   "id": "55bfeb26",
   "metadata": {},
   "outputs": [
    {
     "data": {
      "text/plain": [
       "{'a': 'A', 'v': 'V', 'y': 'Y', 'z': 'Z', 'b': 'B'}"
      ]
     },
     "execution_count": 6,
     "metadata": {},
     "output_type": "execute_result"
    }
   ],
   "source": [
    "result = Dict(['a','v','y','z','b'])\n",
    "result"
   ]
  },
  {
   "cell_type": "markdown",
   "id": "92c7b0f4",
   "metadata": {},
   "source": [
    "Question4\n",
    "Write a function, that replaces all vowels in a string with a specified vowel."
   ]
  },
  {
   "cell_type": "code",
   "execution_count": 7,
   "id": "e9662843",
   "metadata": {},
   "outputs": [],
   "source": [
    "def Vow_replace(String,char):\n",
    "    Vowels = ['a','e','i','o','u']\n",
    "    temp = \"\"\n",
    "    \n",
    "    for i in String:\n",
    "        if i in Vowels:\n",
    "            temp += char\n",
    "            \n",
    "        else:\n",
    "            temp += i\n",
    "            \n",
    "    return temp"
   ]
  },
  {
   "cell_type": "code",
   "execution_count": 8,
   "id": "e129fe51",
   "metadata": {},
   "outputs": [
    {
     "data": {
      "text/plain": [
       "'chmmsm cmssmrmlm'"
      ]
     },
     "execution_count": 8,
     "metadata": {},
     "output_type": "execute_result"
    }
   ],
   "source": [
    "result = Vow_replace(\"cheese casserole\",'m')\n",
    "result"
   ]
  },
  {
   "cell_type": "markdown",
   "id": "02a9502f",
   "metadata": {},
   "source": [
    "Question5\n",
    "Create a function that takes a string as input and capitalizes a letter if its ASCII code is even\n",
    "and returns its lower case version if its ASCII code is odd."
   ]
  },
  {
   "cell_type": "code",
   "execution_count": 9,
   "id": "2129d1ea",
   "metadata": {},
   "outputs": [],
   "source": [
    "def Ascii(Str):\n",
    "    temp = \"\"\n",
    "    \n",
    "    for i in Str:\n",
    "        if ord(i) % 2 == 0:\n",
    "            temp += i.upper()\n",
    "            \n",
    "        else:\n",
    "            temp += i.lower()\n",
    "            \n",
    "    return temp"
   ]
  },
  {
   "cell_type": "code",
   "execution_count": 10,
   "id": "27a025e0",
   "metadata": {},
   "outputs": [
    {
     "data": {
      "text/plain": [
       "'To Be oR NoT To Be!'"
      ]
     },
     "execution_count": 10,
     "metadata": {},
     "output_type": "execute_result"
    }
   ],
   "source": [
    "result = Ascii(\"to be or not to be!\")\n",
    "result"
   ]
  }
 ],
 "metadata": {
  "kernelspec": {
   "display_name": "Python 3 (ipykernel)",
   "language": "python",
   "name": "python3"
  },
  "language_info": {
   "codemirror_mode": {
    "name": "ipython",
    "version": 3
   },
   "file_extension": ".py",
   "mimetype": "text/x-python",
   "name": "python",
   "nbconvert_exporter": "python",
   "pygments_lexer": "ipython3",
   "version": "3.10.10"
  }
 },
 "nbformat": 4,
 "nbformat_minor": 5
}
